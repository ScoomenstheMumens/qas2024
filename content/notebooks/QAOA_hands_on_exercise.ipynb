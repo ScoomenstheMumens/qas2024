{
 "cells": [
  {
   "cell_type": "markdown",
   "id": "826047ba-aa6b-44d2-b43e-d924b59512d6",
   "metadata": {},
   "source": [
    "# Exercise 1: Max 4-Cut\n",
    "\n",
    "1. <u>Problem Definition</u>\n",
    "\n",
    "The Max 4-Cut problem is defined on a graph $ G = (V, E) $, with a corresponding problem Hamiltonian given by:\n",
    "\n",
    "$$\n",
    "H_P = \\sum_{e \\in E} w_{e} H_{e},\n",
    "$$\n",
    "\n",
    "where $ w_e $ represents the weight of edge $ e \\in E$, and $ H_e $ is the Hamiltonian associated with that edge.\n",
    "\n",
    "2. <u>Generic Graph Problem</u>\n",
    "\n",
    "In this exercise, the class `GraphProblem` from the `qaoa.problems` module is used to define the problem. The class requires two inputs:\n",
    "\n",
    "1. A networkx graph $G$,\n",
    "2. The number of qubits per vertex/node.\n",
    "\n",
    "The `GraphProblem` class includes a method to create a quantum circuit for implementing the phase separating Hamiltonian $e^{-i\\theta H_P}$. \n",
    "\n",
    "3. <u>Specific problem implementation</u>\n",
    "\n",
    "However, `GraphProblem` relies on an abstract method, `create_edge_circuit`, which must be implemented to define the phase separating Hamiltonian $ H_e $ for an edge.\n"
   ]
  },
  {
   "cell_type": "code",
   "execution_count": null,
   "id": "7a02a36d-a236-4003-94f4-168a86bb563c",
   "metadata": {},
   "outputs": [],
   "source": [
    "import networkx as nx\n",
    "import numpy as np\n",
    "\n",
    "from qaoa.problems import GraphProblem\n",
    "\n",
    "from qiskit import QuantumCircuit\n",
    "from qiskit.circuit.library import PhaseGate\n",
    "\n",
    "class Max4Cut(GraphProblem):\n",
    "    def __init__(self, G: nx.Graph ) -> None:\n",
    "        \n",
    "        N_qubits_per_node = 2\n",
    "        super().__init__(G, N_qubits_per_node)\n",
    "\n",
    "        # each color is associated with a bitstring combination\n",
    "        self.colors = {\n",
    "            \"color1\": [\"00\"],\n",
    "            \"color2\": [\"01\"],\n",
    "            \"color3\": [\"10\"],\n",
    "            \"color4\": [\"11\"],\n",
    "        }\n",
    "        # Create a dictionary to map each index to its corresponding set\n",
    "        self.bitstring_to_color = {}\n",
    "        for key, indices in self.colors.items():\n",
    "            for index in indices:\n",
    "                self.bitstring_to_color[index] = key\n",
    "\n",
    "    def create_edge_circuit(self, theta):\n",
    "        qc = QuantumCircuit(2 * self.N_qubits_per_node)\n",
    "\n",
    "        \" ---------------------\"\n",
    "        \" implement the circuit\"\n",
    "        \" ---------------------\"\n",
    "            \n",
    "        return qc\n",
    "\n",
    "        \n",
    "    def create_edge_circuit_fixed_node(self, theta):\n",
    "        # we will not use this function, so we can skip it\n",
    "        pass"
   ]
  },
  {
   "cell_type": "markdown",
   "id": "a963bf0b-cc09-4a90-a596-e326084b50a4",
   "metadata": {},
   "source": [
    "Show the circuit for one edge"
   ]
  },
  {
   "cell_type": "code",
   "execution_count": null,
   "id": "a5c3ebd0-1024-4641-bc13-4913d99d533d",
   "metadata": {},
   "outputs": [],
   "source": [
    "test = Max4Cut(nx.Graph([(0, 1, {\"weight\": 1.0})]))\n",
    "test.create_edge_circuit(0.2).draw(\"mpl\")"
   ]
  },
  {
   "cell_type": "markdown",
   "id": "2760a972-782e-4e62-9b4c-df0336012175",
   "metadata": {},
   "source": [
    "4. <u>Graph instance</u>\n",
    "\n",
    "Let's start by defining a Graph with 10 nodes"
   ]
  },
  {
   "cell_type": "code",
   "execution_count": null,
   "id": "4437afee-5817-472d-ae4a-c601521ff57a",
   "metadata": {},
   "outputs": [],
   "source": [
    "import matplotlib.pyplot as plt\n",
    "# Create a graph with 8 nodes\n",
    "G = nx.Graph()\n",
    "# Add nodes\n",
    "G.add_nodes_from(range(8))\n",
    "# Add edges (example connections)\n",
    "edges = [\n",
    "    (0, 1), (0, 2), (1, 3), (1, 4), (2, 4), (2, 5),\n",
    "    (3, 6), (4, 7), (5, 6), (6, 7), (7,3), (3,5)\n",
    "]\n",
    "G.add_edges_from(edges)\n",
    "\n",
    "# Draw the graph\n",
    "plt.figure(figsize=(3,3))\n",
    "nx.draw(G, with_labels=True, pos = nx.circular_layout(G))"
   ]
  },
  {
   "cell_type": "markdown",
   "id": "75e31011-cf89-48a1-b7e6-aa56c45bfa51",
   "metadata": {},
   "source": [
    "5. <u>Problem instance</u>\n",
    "\n",
    "Now we can instantiate a Max4Cut problem with the graph and create and draw the resulting circuit for the phase separating Hamiltonian. Observe that there is one circuit per edge in the graph."
   ]
  },
  {
   "cell_type": "code",
   "execution_count": null,
   "id": "847155b6-6b3d-4fb6-bd58-00e2627be7cc",
   "metadata": {},
   "outputs": [],
   "source": [
    "max4cut = Max4Cut(G)\n",
    "max4cut.create_circuit()\n",
    "max4cut.circuit.draw(\"mpl\")"
   ]
  },
  {
   "cell_type": "markdown",
   "id": "d49eaaff-8dfd-4eb2-851f-6d64b11d6453",
   "metadata": {},
   "source": [
    "5. <u>QAOA instance</u>\n",
    "\n",
    "We create a QAOA instance using\n",
    "- as initial state we use the $\\ket{+}$ state,\n",
    "- as mixing operator the $X$-mixer, and\n",
    "- as phase separation operator our newly created max4cut instance."
   ]
  },
  {
   "cell_type": "code",
   "execution_count": null,
   "id": "4522ed40-8b43-4436-aee9-f2d2788cb3a1",
   "metadata": {},
   "outputs": [],
   "source": [
    "from qaoa import QAOA\n",
    "from qaoa.initialstates import Plus\n",
    "from qaoa.mixers import X\n",
    "from qiskit_algorithms.optimizers import COBYLA\n",
    "\n",
    "settings = {\"maxiter\": 100, \"tol\": 1e-3, \"rhobeg\": 0.1}\n",
    "optimizer = [COBYLA, settings.copy()]\n",
    "\n",
    "qaoa_k4 = QAOA(initialstate=Plus(), problem=max4cut, mixer=X(), optimizer=optimizer)"
   ]
  },
  {
   "cell_type": "markdown",
   "id": "6e84c9d1-e1f2-41b2-a277-8563f730df4b",
   "metadata": {},
   "source": [
    "5. <u>Run QAOA</u>\n",
    "\n",
    "- Sample the cost landscape and plot it."
   ]
  },
  {
   "cell_type": "code",
   "execution_count": null,
   "id": "07fa0ec9-dbd2-4a1f-bc33-3307fb332a6a",
   "metadata": {},
   "outputs": [],
   "source": [
    "from plot_functions import *\n",
    "qaoa_k4.sample_cost_landscape( angles={\"gamma\": [0, np.pi, 20], \"beta\": [0, np.pi/2, 10]} )\n",
    "plot_E(qaoa_k4)"
   ]
  },
  {
   "cell_type": "markdown",
   "id": "00153aed-f8d6-4aaa-a11e-ebc377a8c1e1",
   "metadata": {},
   "source": [
    "- Use a local optimizer to find the optimum for $p=1$. We converge quickly to the local optimum."
   ]
  },
  {
   "cell_type": "code",
   "execution_count": null,
   "id": "d0952185-a46a-4b44-a7d8-4ef85c7ff1e6",
   "metadata": {},
   "outputs": [],
   "source": [
    "qaoa_k4.optimize(depth=1)\n",
    "\n",
    "fig = plt.figure(figsize=(6, 6))\n",
    "gamma = []\n",
    "beta = []\n",
    "angles = qaoa_k4.optimization_results[1].angles\n",
    "for i in range(len(angles)):\n",
    "    gamma.append(angles[i][0])\n",
    "    beta.append(angles[i][1])\n",
    "plt.plot(gamma, beta, \"x-k\")\n",
    "plt.plot(gamma[0], beta[0], \"wo\")\n",
    "plt.plot(gamma[-1], beta[-1], \"or\")\n",
    "plot_E(qaoa_k4, fig=fig)"
   ]
  },
  {
   "cell_type": "markdown",
   "id": "be6243e1-bae5-4b94-8faa-9e23f0df7e22",
   "metadata": {},
   "source": [
    "- Run QAOA up to depth $p=5$. We can see how the approximation ratio increases with $p$."
   ]
  },
  {
   "cell_type": "code",
   "execution_count": null,
   "id": "00f0f797-f0a6-4cfc-9953-4ec89a9b7b71",
   "metadata": {},
   "outputs": [],
   "source": [
    "maxdepth = 5\n",
    "qaoa_k4.optimize(depth=maxdepth)\n",
    "\n",
    "p = np.arange(1, len(np.array(qaoa_k4.get_Exp())) + 1)\n",
    "maxval=12\n",
    "plt.plot(p, -np.array(qaoa_k4.get_Exp()) / maxval, marker=\"x\")\n",
    "plt.xlabel(\"depth\")\n",
    "plt.ylabel(\"Approx. ratio\")\n",
    "plt.title(\"QAOA Max 4-Cut\")\n",
    "plt.ylim([0, 1])\n",
    "plt.show()"
   ]
  },
  {
   "cell_type": "markdown",
   "id": "04d65a0c-9460-470b-b2de-a2f1ce8a4d79",
   "metadata": {},
   "source": [
    "# Exercise 2: Max 3-Cut using the full Hilbert space\n",
    "\n",
    "1. <u>Find the circuit with pen and paper</u>\n",
    "\n",
    "Given $\\operatorname{clr}^3_{< 3}$ we now want to devide the states into the following sets (containing power of two states),\n",
    "- set one consist of $\\ket{1011}, \\ket{1110}$, and\n",
    "- set two consists of $\\ket{0000}, \\ket{0101}, \\ket{1010}, \\ket{1111}, $.\n",
    "  \n",
    "Apply Theorem 1 from [[1]](#1) and work out what the circuit for an edge should look like, using pen and paper. \n",
    "\n",
    "Are there any gates that cancel?\n",
    "\n",
    "2. <u>Specific problem implementation</ul>\n"
   ]
  },
  {
   "cell_type": "code",
   "execution_count": null,
   "id": "e6e59cd9-23e5-4233-b570-3f8350197170",
   "metadata": {},
   "outputs": [],
   "source": [
    "class Max3CutFullH(GraphProblem):\n",
    "    def __init__(self, G: nx.Graph ) -> None:\n",
    "\n",
    "        N_qubits_per_node = 2\n",
    "        super().__init__(G, N_qubits_per_node)\n",
    "\n",
    "        self.colors = {\n",
    "            \"color1\": [\"00\"],\n",
    "            \"color2\": [\"01\"],\n",
    "            \"color3\": [\"10\", \"11\"],\n",
    "        }\n",
    "        # Create a dictionary to map each index to its corresponding set\n",
    "        self.bitstring_to_color = {}\n",
    "        for key, indices in self.colors.items():\n",
    "            for index in indices:\n",
    "                self.bitstring_to_color[index] = key\n",
    "\n",
    "    def create_edge_circuit(self, theta):\n",
    "        qc = QuantumCircuit(2 * self.N_qubits_per_node)\n",
    "        \n",
    "        \" ---------------------\"\n",
    "        \" implement the circuit\"\n",
    "        \" ---------------------\"\n",
    "        \n",
    "        return qc\n",
    "\n",
    "    def create_edge_circuit_fixed_node(self, theta):\n",
    "        pass"
   ]
  },
  {
   "cell_type": "code",
   "execution_count": null,
   "id": "027b569d-4de7-4a5f-9e2a-0c2d2d3b671d",
   "metadata": {},
   "outputs": [],
   "source": [
    "test = Max3CutFullH(nx.Graph([(0, 1, {\"weight\": 1.0})]))\n",
    "test.create_edge_circuit(0.2).draw(\"mpl\")"
   ]
  },
  {
   "cell_type": "markdown",
   "id": "44943119-deb3-42f9-81f4-50b0394dc0a9",
   "metadata": {},
   "source": [
    "3. <u>Run QAOA</u>"
   ]
  },
  {
   "cell_type": "code",
   "execution_count": null,
   "id": "10dc164d-d510-4dc3-a571-9c51bb39bd26",
   "metadata": {},
   "outputs": [],
   "source": [
    "qaoa_k3_fullH = QAOA(initialstate=Plus(), problem=Max3CutFullH(G), mixer=X(), optimizer=optimizer)"
   ]
  },
  {
   "cell_type": "code",
   "execution_count": null,
   "id": "cc3e014a-b85e-4fec-9f1a-5bbcefa4481c",
   "metadata": {},
   "outputs": [],
   "source": [
    "qaoa_k3_fullH.optimize(depth=1, angles={\"gamma\": [0, np.pi, 20], \"beta\": [0, np.pi/2, 10]} )\n",
    "\n",
    "fig = plt.figure(figsize=(6, 6))\n",
    "gamma = []\n",
    "beta = []\n",
    "angles = qaoa_k3_fullH.optimization_results[1].angles\n",
    "for i in range(len(angles)):\n",
    "    gamma.append(angles[i][0])\n",
    "    beta.append(angles[i][1])\n",
    "plt.plot(gamma, beta, \"x-k\")\n",
    "plt.plot(gamma[0], beta[0], \"wo\")\n",
    "plt.plot(gamma[-1], beta[-1], \"or\")\n",
    "plot_E(qaoa_k3_fullH, fig=fig)"
   ]
  },
  {
   "cell_type": "code",
   "execution_count": null,
   "id": "a27b3402-efb3-447c-a33f-b731c17affad",
   "metadata": {},
   "outputs": [],
   "source": [
    "maxdepth = 5\n",
    "qaoa_k3_fullH.optimize(depth=maxdepth)\n",
    "\n",
    "p = np.arange(1, len(np.array(qaoa_k3_fullH.get_Exp())) + 1)\n",
    "maxval=12\n",
    "plt.plot(p, -np.array(qaoa_k3_fullH.get_Exp()) / maxval, marker=\"x\")\n",
    "plt.xlabel(\"depth\")\n",
    "plt.ylabel(\"Approx. ratio\")\n",
    "plt.title(\"QAOA Max 3-Cut using the full Hilber space\")\n",
    "plt.ylim([0, 1])\n",
    "plt.show()"
   ]
  },
  {
   "cell_type": "markdown",
   "id": "7024434f-e325-49f3-8eba-1175c8eedab6",
   "metadata": {},
   "source": [
    "# Exercise 3: Max 3-Cut using subspaces\n",
    "\n",
    "1. <u>Show that the Grover mixer is valid using pen and paper</u>\n",
    "\n",
    "$$\n",
    "U_m(\\beta) = e^{-i\\beta \\ket{F}\\bra{F}}, \\quad \\text{where } U_S \\ket{0} = \\ket{F} := \\frac{1}{\\sqrt{|B|}} \\sum_{x \\in B} \\ket{x}\n",
    "$$\n",
    "\n",
    "2. <u>Create circuit for Grover mixer</u>\n",
    "\n",
    "Using the package `qaoa` create a Grover mixer for $\\ket{ltk3} = \\frac{\\ket{00} + \\ket{01} + \\ket{11}}{\\sqrt{3}}$. For this we import the following:\n"
   ]
  },
  {
   "cell_type": "code",
   "execution_count": null,
   "id": "477e2b91-1f8f-4659-b445-87064988a4b2",
   "metadata": {},
   "outputs": [],
   "source": [
    "from qaoa.initialstates import LessThanK\n",
    "\n",
    "ltk3 = LessThanK(3)\n",
    "ltk3.create_circuit()\n",
    "ltk3.circuit.draw(\"mpl\")"
   ]
  },
  {
   "cell_type": "markdown",
   "id": "916a788e-ff03-4241-955f-9026aeb0ac88",
   "metadata": {},
   "source": [
    "Create a circuit for $\\ket{ltk3}^{\\otimes 3}$. For this we can use the Tensor class."
   ]
  },
  {
   "cell_type": "code",
   "execution_count": null,
   "id": "2ab2e08b-f5b5-459f-b64b-667ee1cd4c35",
   "metadata": {},
   "outputs": [],
   "source": [
    "from qaoa.initialstates import Tensor\n",
    "\n",
    "numNodes = 3\n",
    "phi0 = Tensor(ltk3, numNodes)\n",
    "phi0.create_circuit()\n",
    "phi0.circuit.draw(\"mpl\")"
   ]
  },
  {
   "cell_type": "markdown",
   "id": "20ca4185-8dd9-4563-94e9-d119743fe281",
   "metadata": {},
   "source": [
    "create the Grover mixer for $\\ket{ltk3}^{\\otimes 3}$"
   ]
  },
  {
   "cell_type": "code",
   "execution_count": null,
   "id": "6b649481-3f46-4888-920b-8c47f826b709",
   "metadata": {},
   "outputs": [],
   "source": [
    "from qaoa.mixers import Grover\n",
    "\" ---------------------\"\n",
    "\" define the Grover mixer\"\n",
    "\" ---------------------\""
   ]
  },
  {
   "cell_type": "markdown",
   "id": "5e3aff5d-6ad7-46ce-b4db-ff89944d1555",
   "metadata": {},
   "source": [
    "3. <u>Numerically test that the Grover mixer is valid</u>\n",
    "\n",
    "Show that we have a valid mixer by plotting the overlap $\\bra{z_1} U_M(\\beta) \\ket{z_2}$ depending on $\\beta$:\n",
    "\n",
    "- Pick two feasible computational basis states $\\ket{z_1} \\neq \\ket{z_2}$ and see that the overlap is nonzero for some values of $\\beta$\n",
    "- Pick a feasible and an infeasible state, and show that the overlap is always zero\n",
    "\n",
    "Let's start by importing the necessary things, before we can do some plots."
   ]
  },
  {
   "cell_type": "code",
   "execution_count": null,
   "id": "a4f3ed48-3557-41b5-b1f2-837bcd309f09",
   "metadata": {},
   "outputs": [],
   "source": [
    "import numpy as np\n",
    "import matplotlib.pyplot as pl\n",
    "from tqdm import tqdm\n",
    "from qiskit_aer import Aer\n",
    "from qiskit import (\n",
    "    QuantumCircuit,\n",
    "    QuantumRegister,\n",
    "    ClassicalRegister,\n",
    "    transpile,\n",
    ")\n",
    "backend=Aer.get_backend(\"qasm_simulator\")"
   ]
  },
  {
   "cell_type": "code",
   "execution_count": null,
   "id": "8022ef9c-d28d-4eca-b5b0-b1d0f4beac65",
   "metadata": {},
   "outputs": [],
   "source": [
    "overlap = []\n",
    "betavalues = np.linspace(0,2*np.pi,50)\n",
    "shots=10**5\n",
    "for beta in tqdm(betavalues):\n",
    "    q = QuantumRegister(numNodes*2)\n",
    "    c = ClassicalRegister(numNodes*2)\n",
    "    circuit = QuantumCircuit(q, c)\n",
    "        \" ---------------------\"\n",
    "        \" implement a circuit for <z_1|\"\n",
    "        \" ---------------------\"\n",
    "    circuit.barrier()\n",
    "    circuit.append(grover.circuit, q)\n",
    "    circuit.measure(q, c)\n",
    "    circuit = transpile(circuit, backend)\n",
    "    \n",
    "    # Assign float values to the parameters\n",
    "    parameters = list(circuit.parameters)\n",
    "    parameter_values = [beta]\n",
    "    bound_circuit = circuit.assign_parameters(dict(zip(parameters, parameter_values)))\n",
    "\n",
    "    \n",
    "    # Run the job\n",
    "    job = backend.run(bound_circuit, shots=shots)\n",
    "    counts = job.result().get_counts()\n",
    "    overlap.append(counts.get(\n",
    "        \" ---------------------\"\n",
    "        \" choose string for |z_2>\"\n",
    "        \" ---------------------\"\n",
    "        ,0.)/shots)\n",
    "    \n",
    "# bound_circuit.draw('mpl')\n",
    "\n",
    "pl.plot(betavalues, overlap)"
   ]
  },
  {
   "cell_type": "code",
   "execution_count": null,
   "id": "35aa7724",
   "metadata": {},
   "outputs": [],
   "source": [
    "4. <u>Problem class</u>"
   ]
  },
  {
   "cell_type": "code",
   "execution_count": null,
   "id": "9387f9bd",
   "metadata": {},
   "outputs": [],
   "source": [
    "class Max3Cut(GraphProblem):\n",
    "    def __init__(self, G: nx.Graph ) -> None:\n",
    "        \n",
    "        N_qubits_per_node = 2\n",
    "        super().__init__(G, N_qubits_per_node)\n",
    "\n",
    "        # each color is associated with a bitstring combination\n",
    "        self.colors = {\n",
    "            \"color1\": [\"00\"],\n",
    "            \"color2\": [\"01\"],\n",
    "            \"color3\": [\"10\"],\n",
    "        }\n",
    "        # Create a dictionary to map each index to its corresponding set\n",
    "        self.bitstring_to_color = {}\n",
    "        for key, indices in self.colors.items():\n",
    "            for index in indices:\n",
    "                self.bitstring_to_color[index] = key\n",
    "\n",
    "    def create_edge_circuit(self, theta):\n",
    "        qc = QuantumCircuit(2 * self.N_qubits_per_node)\n",
    "\n",
    "        qc.cx(0, 2)\n",
    "        qc.cx(1, 3)\n",
    "        qc.x([2, 3])\n",
    "        phase_gate = PhaseGate(-theta).control(1)\n",
    "        qc.append(phase_gate, [2, 3])\n",
    "        qc.x([2, 3])\n",
    "        qc.cx(1, 3)\n",
    "        qc.cx(0, 2)\n",
    "            \n",
    "        return qc\n",
    "\n",
    "        \n",
    "    def create_edge_circuit_fixed_node(self, theta):\n",
    "        # we will not use this function, so we can skip it\n",
    "        pass"
   ]
  },
  {
   "cell_type": "markdown",
   "id": "0eaea262-76aa-47a3-8b51-c5a3f65bb477",
   "metadata": {},
   "source": [
    "5. <u>Initial state class</u>\n",
    "\n",
    "To run QAOA we need to implement the `InitialState` class that creates a Tensor of $\\ket{ltk3}$ state, which can be done just as above\n"
   ]
  },
  {
   "cell_type": "code",
   "execution_count": null,
   "id": "5c678b40-60b7-4205-9206-960508f9ca9a",
   "metadata": {},
   "outputs": [],
   "source": [
    "from qaoa.initialstates import InitialState\n",
    "class Max3CutInitialState(InitialState):\n",
    "    \n",
    "    def create_circuit(self) -> None:\n",
    "\n",
    "        numQubitsPerNode = 2\n",
    "        self.num_V = int(self.N_qubits/numQubitsPerNode)\n",
    "        \n",
    "        tg = \n",
    "        \n",
    "        \" ---------------------\"\n",
    "        \" define the initial state\"\n",
    "        \" ---------------------\"\n",
    "        \n",
    "        tg.create_circuit()\n",
    "        self.circuit = tg.circuit"
   ]
  },
  {
   "cell_type": "markdown",
   "id": "0678247c-b8be-4e2f-904d-a76777b6ecaf",
   "metadata": {},
   "source": [
    "6. <u>Mixer class</u>\n",
    "\n",
    "We also need to implement the `Mixer` class that creates a Tensor of Grover mixer, which can be done just as above\n"
   ]
  },
  {
   "cell_type": "code",
   "execution_count": null,
   "id": "92935b26-ee63-46b8-a2a5-b20433ab0e94",
   "metadata": {},
   "outputs": [],
   "source": [
    "from qaoa.mixers import Mixer\n",
    "class Max3CutGrover(Mixer):\n",
    "        \n",
    "    def create_circuit(self) -> None:\n",
    "\n",
    "        numQubitsPerNode = 2\n",
    "        self.num_V = int(self.N_qubits/numQubitsPerNode)\n",
    "        \n",
    "        gm = \n",
    "        \n",
    "        \" ---------------------\"\n",
    "        \" define the Box Grover mixer\"\n",
    "        \" ---------------------\"\n",
    "        \n",
    "        gm.create_circuit()\n",
    "        self.circuit = gm.circuit"
   ]
  },
  {
   "cell_type": "markdown",
   "id": "db85fd5a-f0fb-42dc-b70f-2d7a555be8e2",
   "metadata": {},
   "source": [
    "7. <u>Run QAOA</u>\n",
    "\n",
    "create an instance of QAOA and plot the resulting landscape"
   ]
  },
  {
   "cell_type": "code",
   "execution_count": null,
   "id": "436e1b9c-4312-4394-a980-0fa314c2152e",
   "metadata": {
    "scrolled": true
   },
   "outputs": [],
   "source": [
    "qaoa_k3_subH = QAOA(\n",
    "    initialstate=Max3CutInitialState(),\n",
    "    problem=Max4Cut(G),\n",
    "    mixer=Max3CutGrover(),\n",
    "    optimizer=optimizer)\n",
    "\n",
    "qaoa_k3_subH.optimize(depth=1, angles={\"gamma\": [0, 2*np.pi, 20], \"beta\": [0, 2*np.pi, 20]} )\n",
    "\n",
    "fig = plt.figure(figsize=(6, 6))\n",
    "gamma = []\n",
    "beta = []\n",
    "angles = qaoa_k3_subH.optimization_results[1].angles\n",
    "for i in range(len(angles)):\n",
    "    gamma.append(angles[i][0])\n",
    "    beta.append(angles[i][1])\n",
    "plt.plot(gamma, beta, \"x-k\")\n",
    "plt.plot(gamma[0], beta[0], \"wo\")\n",
    "plt.plot(gamma[-1], beta[-1], \"or\")\n",
    "plot_E(qaoa_k3_subH, fig=fig)"
   ]
  },
  {
   "cell_type": "markdown",
   "id": "7869d14e-6138-4774-a809-87dd6a2b41ce",
   "metadata": {},
   "source": [
    "8. <u>Comparison for MAX 3-CUT</u>\n",
    "\n",
    "Compare the convergence for the method using the full Hilbert space and the subspace encoding up to d"
   ]
  },
  {
   "cell_type": "code",
   "execution_count": null,
   "id": "97f29836-d369-4b30-b805-4994360ea206",
   "metadata": {},
   "outputs": [],
   "source": [
    "maxdepth = 5\n",
    "qaoa_k3_subH.optimize(depth=maxdepth)\n",
    "\n",
    "p = np.arange(1, len(np.array(qaoa_k3_subH.get_Exp())) + 1)\n",
    "maxval=12\n",
    "plt.plot(p, -np.array(qaoa_k3_fullH.get_Exp()) / maxval, marker=\"x\", label=\"full H\")\n",
    "plt.plot(p, -np.array(qaoa_k3_subH.get_Exp()) / maxval, marker=\"x\", label=\"sub H\")\n",
    "plt.xlabel(\"depth\")\n",
    "plt.ylabel(\"Approx. ratio\")\n",
    "plt.legend()\n",
    "plt.title(\"QAOA Max 3-Cut using the full Hilbert space\")\n",
    "plt.ylim([0, 1])\n",
    "plt.show()"
   ]
  },
  {
   "cell_type": "markdown",
   "id": "dfed4538-ffcf-45a1-a807-9256be1496f4",
   "metadata": {},
   "source": [
    "For more info you can look into the following reference.\n",
    "\n",
    "# References\n",
    "<a id=\"1\">[1]</a>\n",
    "Fuchs, Franz G., Ruben P. Bassa, and Frida Lien.\n",
    "\"Encodings of the weighted MAX k-CUT on qubit systems.\"\n",
    "Preprint arXiv 2024.\n",
    "[arXiv:2411.08594](https://doi.org/10.48550/arXiv.2411.08594)\n",
    "\n",
    "<a id=\"2\">[2]</a>\n",
    "Fuchs, Franz G., Ruben P. Bassa.\n",
    "\"LX-mixers for QAOA: Optimal mixers restricted to subspaces and the stabilizer formalism.\"\n",
    "Quantum 8 (2024): 1535.\n",
    "[10.22331/q-2024-11-25-1535](https://doi.org/10.22331/q-2024-11-25-1535)\n",
    "\n",
    "<a id=\"3\">[3]</a>\n",
    "Bärtschi, Andreas, and Stephan Eidenbenz.\n",
    "\"Grover mixers for QAOA: Shifting complexity from mixer design to state preparation.\"\n",
    "In 2020 IEEE International Conference on Quantum Computing and Engineering (QCE), pp. 72-82. IEEE, 2020.\n",
    "[10.1109/QCE49297.2020.00020](https://doi.org/10.1109/QCE49297.2020.00020)"
   ]
  }
 ],
 "metadata": {
  "kernelspec": {
   "display_name": "Python 3 (ipykernel)",
   "language": "python",
   "name": "python3"
  },
  "language_info": {
   "codemirror_mode": {
    "name": "ipython",
    "version": 3
   },
   "file_extension": ".py",
   "mimetype": "text/x-python",
   "name": "python",
   "nbconvert_exporter": "python",
   "pygments_lexer": "ipython3",
   "version": "3.12.4"
  }
 },
 "nbformat": 4,
 "nbformat_minor": 5
}
